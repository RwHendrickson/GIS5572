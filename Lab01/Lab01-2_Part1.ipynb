{
 "cells": [
  {
   "cell_type": "markdown",
   "id": "89fc8681",
   "metadata": {},
   "source": [
    "# Lab 1-2: Part 1"
   ]
  },
  {
   "cell_type": "markdown",
   "id": "5328a246",
   "metadata": {},
   "source": [
    "## ArcPy"
   ]
  },
  {
   "cell_type": "code",
   "execution_count": 1,
   "id": "908d38b6",
   "metadata": {},
   "outputs": [],
   "source": [
    "### 1\n",
    "\n",
    "# Import libraries\n",
    "\n",
    "import arcpy\n",
    "import os\n",
    "\n",
    "# Get CWD\n",
    "\n",
    "cwd = os.getcwd()\n",
    "\n",
    "# Create GeoDataBase\n",
    "\n",
    "arcpy.management.CreateFileGDB(os.getcwd(), 'example_gdb')\n",
    "\n",
    "# Make it workspace\n",
    "\n",
    "arcpy.env.workspace = os.path.join(cwd, 'example_gdb.gdb')"
   ]
  },
  {
   "cell_type": "code",
   "execution_count": 2,
   "id": "b36f5378",
   "metadata": {},
   "outputs": [
    {
     "data": {
      "text/html": [
       "<div class='gpresult'><h2>Messages</h2><div id='messages' data-messages='[\"Start Time: Wednesday, February 15, 2023 8:10:15 PM\",\"Succeeded at Wednesday, February 15, 2023 8:10:15 PM (Elapsed Time: 0.39 seconds)\"]' data-show='true'><div id = 'default' /></div></div>"
      ],
      "text/plain": [
       "<Result 'C:\\\\Users\\\\HAL\\\\Documents\\\\GIS5572\\\\Lab01\\\\example_gdb.gdb\\\\example_poly'>"
      ]
     },
     "execution_count": 2,
     "metadata": {},
     "output_type": "execute_result"
    }
   ],
   "source": [
    "### 2\n",
    "\n",
    "# Create Feature Classes\n",
    "\n",
    "# Points \n",
    "\n",
    "arcpy.management.CreateFeatureclass(os.path.join(cwd, 'example_gdb.gdb'), 'example_point', spatial_reference=26915, geometry_type = 'POINT')\n",
    "\n",
    "# Lines\n",
    "\n",
    "arcpy.management.CreateFeatureclass(os.path.join(cwd, 'example_gdb.gdb'), 'example_polyline', spatial_reference=26915, geometry_type = 'POLYLINE')\n",
    "\n",
    "# Polygons\n",
    "\n",
    "arcpy.management.CreateFeatureclass(os.path.join(cwd, 'example_gdb.gdb'), 'example_poly', spatial_reference=26915)"
   ]
  },
  {
   "cell_type": "code",
   "execution_count": 3,
   "id": "78406600",
   "metadata": {},
   "outputs": [
    {
     "data": {
      "text/html": [
       "<div class='gpresult'><h2>Messages</h2><div id='messages' data-messages='[\"Start Time: Wednesday, February 15, 2023 8:10:17 PM\",\"Succeeded at Wednesday, February 15, 2023 8:10:17 PM (Elapsed Time: 0.11 seconds)\"]' data-show='true'><div id = 'default' /></div></div>"
      ],
      "text/plain": [
       "<Result 'true'>"
      ]
     },
     "execution_count": 3,
     "metadata": {},
     "output_type": "execute_result"
    }
   ],
   "source": [
    "### 3\n",
    "\n",
    "# Create Shapes\n",
    "\n",
    "# Points\n",
    "\n",
    "pt1 = arcpy.Point(479025.028, 4979084.696) # Create Point\n",
    "pt1_geom = arcpy.PointGeometry(pt1, spatial_reference=26915) # Point Geometry\n",
    "\n",
    "pt2 = arcpy.Point(475025.028, 4974084.696) # Create Point\n",
    "pt2_geom = arcpy.PointGeometry(pt2, spatial_reference=26915) # Point Geometry\n",
    "\n",
    "# Line\n",
    "\n",
    "line_array = arcpy.Array([pt1, pt2])\n",
    "polyline = arcpy.Polyline(line_array, spatial_reference=26915)\n",
    "\n",
    "# Polygon\n",
    "\n",
    "# Import GeoJson into arcpy.Polygon\n",
    "\n",
    "arcpy.conversion.JSONToFeatures(os.path.join(cwd, 'mpls_boundary.geojson'), 'mpls_boundary') # Import to feature class\n",
    "\n",
    "# Access new feature class\n",
    "\n",
    "# https://pro.arcgis.com/en/pro-app/latest/arcpy/get-started/data-access-using-cursors.htm\n",
    "# https://pro.arcgis.com/en/pro-app/latest/arcpy/get-started/reading-geometries.htm\n",
    "\n",
    "polys = [] # Create list to catch polygons\n",
    "cursor = arcpy.da.SearchCursor('mpls_boundary', ['SHAPE@']) # Set cursor as shape search in mpls_boundary\n",
    "for row in cursor:\n",
    "    polys += [row[0]]   # Acquire shapes\n",
    "    \n",
    "# Get Polygon\n",
    "    \n",
    "poly = polys[0] # Only one in this example\n",
    "\n",
    "arcpy.management.Delete('mpls_boundary') # Delete boundary feature class    "
   ]
  },
  {
   "cell_type": "code",
   "execution_count": 4,
   "id": "569eedaa",
   "metadata": {},
   "outputs": [],
   "source": [
    "### 4\n",
    "\n",
    "# Add to feature class\n",
    "\n",
    "# Point\n",
    "\n",
    "shapes = [pt1_geom]\n",
    "\n",
    "with arcpy.da.InsertCursor('example_point', ['SHAPE@']) as cursor:\n",
    "    for shape in shapes:\n",
    "        cursor.insertRow([shape])\n",
    "\n",
    "# Line\n",
    "\n",
    "shapes = [polyline]\n",
    "\n",
    "with arcpy.da.InsertCursor('example_polyline', ['SHAPE@']) as cursor:\n",
    "    for shape in shapes:\n",
    "        cursor.insertRow([shape])\n",
    "\n",
    "# Polygon\n",
    "\n",
    "shapes = [poly]\n",
    "\n",
    "with arcpy.da.InsertCursor('example_poly', ['SHAPE@']) as cursor:\n",
    "    for shape in shapes:\n",
    "        cursor.insertRow([shape])"
   ]
  },
  {
   "cell_type": "code",
   "execution_count": 5,
   "id": "1f8001d3",
   "metadata": {},
   "outputs": [
    {
     "name": "stdout",
     "output_type": "stream",
     "text": [
      "['OBJECTID', 'Shape', 'CTU_ID', 'CTU_NAME', 'CTU_CODE', 'Shape_Length', 'Shape_Area']\n",
      "(1, (478877.06757128355, 4978942.531882315), 2395345.0, 'Minneapolis', '43000', 61669.553757925605, 148624867.55136013)\n"
     ]
    },
    {
     "data": {
      "text/html": [
       "<div class='gpresult'><h2>Messages</h2><div id='messages' data-messages='[\"Start Time: Wednesday, February 15, 2023 8:10:18 PM\",\"Succeeded at Wednesday, February 15, 2023 8:10:18 PM (Elapsed Time: 0.11 seconds)\"]' data-show='true'><div id = 'default' /></div></div>"
      ],
      "text/plain": [
       "<Result 'true'>"
      ]
     },
     "execution_count": 5,
     "metadata": {},
     "output_type": "execute_result"
    }
   ],
   "source": [
    "### 5\n",
    "\n",
    "# View each row of a feature class\n",
    "\n",
    "arcpy.conversion.JSONToFeatures(os.path.join(cwd, 'mpls_boundary.geojson'), 'mpls_boundary') # Import Geojson to feature class\n",
    "\n",
    "# Summarize/get fields\n",
    "fields = [f.name for f in arcpy.ListFields('mpls_boundary')]\n",
    "print(fields)\n",
    "\n",
    "# Iterate through rows\n",
    "cursor = arcpy.da.SearchCursor('mpls_boundary', fields) # Set cursor as shape search in mpls_boundary\n",
    "for row in cursor:\n",
    "    print(row)   # Show row\n",
    "    \n",
    "arcpy.management.Delete('mpls_boundary') # Delete boundary feature class      "
   ]
  },
  {
   "cell_type": "code",
   "execution_count": 6,
   "id": "df39847d",
   "metadata": {},
   "outputs": [
    {
     "data": {
      "text/html": [
       "<div class='gpresult'><h2>Messages</h2><div id='messages' data-messages='[\"Start Time: Wednesday, February 15, 2023 8:10:22 PM\",\"Succeeded at Wednesday, February 15, 2023 8:10:22 PM (Elapsed Time: 0.06 seconds)\"]' data-show='true'><div id = 'default' /></div></div>"
      ],
      "text/plain": [
       "<Result 'C:\\\\Users\\\\HAL\\\\Documents\\\\GIS5572\\\\Lab01\\\\example_point.geojson'>"
      ]
     },
     "execution_count": 6,
     "metadata": {},
     "output_type": "execute_result"
    }
   ],
   "source": [
    "### 6\n",
    "\n",
    "# Export\n",
    "\n",
    "# Shapefile\n",
    "\n",
    "os.mkdir('shp')\n",
    "arcpy.conversion.FeatureClassToShapefile('example_point', os.path.join(cwd, 'shp'))\n",
    "\n",
    "# GeoDataBase\n",
    "\n",
    "arcpy.conversion.FeatureClassToGeodatabase('example_point', os.path.join(cwd, 'example_gdb.gdb'))\n",
    "\n",
    "# WKT\n",
    "\n",
    "# Open file in write mode\n",
    "with open(r'shapes_wkt.txt', 'w') as file:\n",
    "    for shape in [pt1_geom, polyline, poly]:\n",
    "        wkt = shape.WKT\n",
    "        # write each wkt on new line\n",
    "        file.write(\"%s\\n\" % wkt)\n",
    "        \n",
    "# GeoJSON\n",
    "\n",
    "arcpy.conversion.FeaturesToJSON('example_point', os.path.join(cwd, 'example_point.geojson'), geoJSON = True)"
   ]
  },
  {
   "cell_type": "code",
   "execution_count": 7,
   "id": "d827a0c8",
   "metadata": {},
   "outputs": [
    {
     "data": {
      "text/plain": [
       "['POINT (479025.02799999999 4979084.6960000005',\n",
       " 'MULTILINESTRING ((479025.02799999999 4979084.6960000005, 475025.02799999999 4974084.6960000005)',\n",
       " 'MULTIPOLYGON Z (((474025.02780000027 4974084.6956999991 0, 474026.81520000007 4973286.3438000008 0, 474027.36409999989 4972484.2321000006 0, 474829.96729999967 4972473.0042000003 0, 474827.12650000025 4971668.7555999998 0, 474823.79800000042 4970870.5369000006 0, 475925.19859999977 4970855.0585999992 0, 476683.10240000021 4970844.4085000008 0, 477230.17980000004 4970836.7248999998 0, 478039.2703999998 4970839.7566999998 0, 478286.21030000038 4970841.4076000005 0, 478849.89460000023 4970845.1762000006 0, 480189.29530000035 4970840.7016000003 0, 480190.58789999969 4970849.8049999997 0, 480078.14599999972 4970850.3302999996 0, 480038.99600000028 4970850.4730999991 0, 480045.18039999995 4971051.4532999992 0, 479944.37959999964 4971051.7886999995 0, 479948.04629999958 4971243.4615000002 0, 479889.87160000019 4971243.3337999992 0, 479891.37069999985 4971307.5811000001 0, 479887.10529999994 4971307.5493000001 0, 479888.72630000021 4971377.966 0, 479792.1425999999 4971377.8817999996 0, 479796.60109999962 4971556.5484999996 0, 479836.11359999981 4971556.4857999999 0, 479836.16199999955 4971559.6570999995 0, 479853.78809999954 4971559.9156999998 0, 479855.50100000016 4971634.4651999995 0, 479894.63040000014 4971634.4798000008 0, 480399.80059999973 4971634.6704999991 0, 480399.02159999963 4971603.7863999996 0, 480450.34080000035 4971603.8073999994 0, 480446.61890000012 4971444.3444999997 0, 480649.52419999987 4971443.7027000003 0, 480651.26860000007 4971517.8706999999 0, 480651.62260000035 4971545.1742000002 0, 480660.11930000037 4971545.2223000005 0, 480660.1799999997 4971559.3497000001 0, 480699.16999999993 4971559.8378999997 0, 480698.97009999957 4971536.3012000006 0, 480758.15170000028 4971536.6358000003 0, 480758.83110000007 4971576.1305 0, 480802.24309999961 4971576.7064999994 0, 480802.64059999958 4971607.2631000001 0, 480841.81940000039 4971607.9028999992 0, 480840.25109999999 4971546.2403999995 0, 480850.45779999997 4971546.2980000004 0, 480850.57359999977 4971552.1875 0, 480858.74230000004 4971551.9986000005 0, 480859.84719999973 4971638.8588999994 0, 480941.50939999986 4971638.8949999996 0, 480940.96609999985 4971550.0971000008 0, 480998.26279999968 4971548.7605000008 0, 481196.83739999961 4971544.5384999998 0, 481249.02680000011 4971543.1320999991 0, 481249.06620000023 4971534.0784000009 0, 481638.12170000002 4971536.7528000008 0, 481642.00499999989 4971529.1308999993 0, 481642.78990000021 4971445.0640999991 0, 481440.33530000038 4971444.0841000006 0, 481439.19440000039 4971320.5748999994 0, 481658.61550000031 4971322.3111000005 0, 481658.84999999963 4971366.7052999996 0, 481703.43140000012 4971366.9410999995 0, 481703.8657999998 4971462.1978999991 0, 481660.0186999999 4971461.8809999991 0, 481660.08650000021 4971473.5855999999 0, 481703.96030000038 4971473.8692000005 0, 481704.35989999957 4971523.3137999997 0, 482054.30240000039 4971525.6945999991 0, 482054.41179999989 4971538.4887000006 0, 482406.01109999977 4971536.5523000006 0, 482406.03949999996 4971538.8602000009 0, 482407.18560000043 4971540.8871999998 0, 482411.11120000016 4971543.0452999994 0, 482587.43759999983 4971542.9115999993 0, 482587.58349999972 4971555.2018999998 0, 482687.94259999972 4971619.6877999995 0, 482705.78380000032 4971629.0062000006 0, 482705.33889999986 4971517.3970999997 0, 482667.80109999981 4971517.1953999996 0, 482648.81199999992 4971529.4210000001 0, 482543.53280000016 4971529.3035000004 0, 482524.07220000029 4971517.1248000003 0, 482433.31149999984 4971517.8118999992 0, 482433.37110000011 4971441.0120999999 0, 482434.53569999989 4971422.6377000008 0, 482600.55960000027 4971305.5660999995 0, 482704.30209999997 4971305.6469999999 0, 482704.8200000003 4971418.6403000001 0, 482862.43919999991 4971418.7225000001 0, 482862.06390000042 4971370.3011000007 0, 482846.72970000003 4971370.2970000003 0, 482845.65660000034 4971262.4260000009 0, 482860.06730000023 4971262.4132000003 0, 482858.4581000004 4971175.4590000007 0, 482941.77740000002 4971133.5822000001 0, 483149.32679999992 4971133.8134000003 0, 483347.40149999969 4971133.7266000006 0, 483349.92659999989 4971417.5855999999 0, 483189.70650000032 4971417.5216000006 0, 483190.11990000028 4971445.1021999996 0, 483601.94919999968 4971444.3861999996 0, 483603.59829999972 4971655.0562999994 0, 483611.59499999974 4972461.6608000007 0, 484013.92740000039 4972461.2080000006 0, 484415.78550000023 4972461.7426999994 0, 484658.75069999974 4972457.0610000007 0, 484610.01879999973 4972500.6623999998 0, 484555.99509999994 4972547.9679000005 0, 484469.30300000031 4972621.5592 0, 484421.13460000046 4972662.4487999994 0, 484386.45909999963 4972695.3538000006 0, 484353.50580000039 4972729.9828999992 0, 484325.39080000017 4972762.5493999999 0, 484295.94159999955 4972800.2039000001 0, 484268.45000000019 4972839.3102000002 0, 484245.43950000033 4972875.6634999998 0, 484221.85879999958 4972917.2453000005 0, 484200.4282999998 4972959.9750999995 0, 484181.20289999992 4973003.7415999994 0, 484165.82710000034 4973043.9239000008 0, 484159.89140000008 4973062.0164000001 0, 484150.92559999973 4973089.3446999993 0, 484138.35800000001 4973135.4659000002 0, 484129.07029999979 4973177.4747000001 0, 484121.02249999996 4973224.5954 0, 484115.84100000001 4973267.3059 0, 484107.88709999993 4973383.3197000008 0, 484101.90359999985 4973499.4526000004 0, 484098.24100000039 4973602.7542000003 0, 484095.98460000008 4973719.0186999999 0, 484095.82820000034 4973844.5464999992 0, 484097.10919999983 4973938.6618000008 0, 484100.55599999987 4974054.8970999997 0, 484105.27610000037 4974158.1554000005 0, 484111.55449999962 4974261.3302999996 0, 484120.47740000021 4974377.2738000005 0, 484130.06049999967 4974480.1944999993 0, 484142.69689999986 4974595.7925000004 0, 484155.57550000027 4974698.3528000005 0, 484171.91189999972 4974813.4861999992 0, 484181.19579999987 4974871.7815000005 0, 484190.20110000018 4974928.3253000006 0, 484210.1967000002 4975041.5440999996 0, 484196.43209999986 4975149.1009999998 0, 484184.80740000028 4975249.6798 0, 484174.37000000011 4975350.3883999996 0, 484165.12150000036 4975451.2129999995 0, 484157.06259999983 4975552.1399000008 0, 484148.8415000001 4975677.2715000007 0, 484144.51989999972 4975754.2434999999 0, 484140.03760000039 4975855.3924000002 0, 484136.74830000009 4975956.5866999999 0, 484134.45199999958 4976072.2759000007 0, 484133.72180000041 4976173.5210999995 0, 484134.18599999975 4976274.7679999992 0, 484135.84460000042 4976376.0022 0, 484138.69749999978 4976477.2100000009 0, 484142.74380000029 4976578.3769000005 0, 484146.24890000001 4976646.0149000008 0, 484147.98309999984 4976679.4889000002 0, 484149.3814000003 4976715.2141999993 0, 484150.02209999971 4976753.3332000002 0, 484149.78479999956 4976791.4569000006 0, 484148.91750000045 4976823.2155000009 0, 484147.07249999978 4976861.2952999994 0, 484144.86600000039 4976892.9890999999 0, 484142.05179999955 4976924.6348000001 0, 484137.87469999958 4976962.5294000003 0, 484132.82639999967 4977000.3180999998 0, 484127.95600000024 4977031.7134000007 0, 484121.31790000014 4977069.2551000006 0, 484108.34049999993 4977131.4540999997 0, 484099.41249999963 4977168.5183000006 0, 484089.63329999987 4977205.3669000007 0, 484080.83839999977 4977235.8959999997 0, 484075.53710000031 4977250.8241000008 0, 484065.72410000023 4977278.4583000001 0, 484048.17459999956 4977320.6406999994 0, 484028.40060000028 4977361.8269999996 0, 484006.45889999997 4977401.9006999992 0, 483982.4112999998 4977440.7471999992 0, 483956.32689999975 4977478.2557999995 0, 483928.27950000018 4977514.3208000008 0, 483901.4243999999 4977545.4595999997 0, 483869.87129999977 4977578.5012999997 0, 483841.42769999988 4977605.2711999994 0, 483836.6015999997 4977609.8134000003 0, 483801.7098000003 4977639.3071999997 0, 483769.00169999991 4977664.2274999991 0, 483739.26879999973 4977684.7026000004 0, 483735.13570000045 4977687.5488000009 0, 483696.24320000038 4977711.5214000009 0, 483656.12799999956 4977733.3863999993 0, 483639.24909999967 4977741.4495999999 0, 483614.90280000027 4977753.0801999997 0, 483614.90350000001 4977755.2623999994 0, 483615.1305999998 4978839.7796999998 0, 483616.53579999972 4979041.2861000001 0, 483624.38910000026 4980167.4840999991 0, 483628.99100000039 4980813.8541000001 0, 483629.06670000032 4980824.5106000006 0, 483632.00820000004 4981294.5294000003 0, 483633.80449999962 4981408.1335000005 0, 483637.56819999963 4981646.1930999998 0, 483637.57340000011 4981646.5120000001 0, 483638.94120000023 4982035.8644999992 0, 483638.93680000026 4982040.1995999999 0, 483638.73510000017 4982233.2850000001 0, 483637.88360000029 4983048.3230000008 0, 483637.25310000032 4983652.4683999997 0, 483636.90369999968 4983652.4639999997 0, 482835.24270000029 4983642.4287999999 0, 482831.73660000041 4984448.3303999994 0, 482792.9057 4984448.0702999998 0, 482124.79719999991 4984443.4787000008 0, 482125.2686999999 4985077.4572999999 0, 482126.21870000008 4985652.4916999992 0, 482126.1464999998 4985854.4473000001 0, 482125.19240000006 4986457.4780999999 0, 482125.76130000036 4986938.0919000003 0, 482125.22780000046 4986938.0890999995 0, 480924.64589999989 4986931.9339000005 0, 480519.21609999985 4986929.8840999994 0, 478916.12669999991 4986933.1161000002 0, 478589.59030000027 4986931.9903999995 0, 477671.44880000036 4986928.8249999993 0, 477681.00889999978 4987000.2307999991 0, 477688.32129999995 4987037.9591000006 0, 477696.44409999996 4987072.5692999996 0, 477703.97869999986 4987100.3871999998 0, 477713.83499999996 4987132.5337000005 0, 477723.18690000009 4987159.7949000001 0, 477733.87750000041 4987188.0544000007 0, 477829.20600000024 4987475.8847000003 0, 477842.53409999982 4987520.0327000003 0, 477854.36209999956 4987564.6068999991 0, 477864.67509999964 4987609.5546000004 0, 477874.45270000026 4987660.5053000003 0, 477882.28500000015 4987711.7907999996 0, 477887.60450000037 4987757.5986000001 0, 477891.37179999985 4987803.5605999995 0, 477893.6018000003 4987850.2486000005 0, 477897.36519999988 4987888.7775999997 0, 477898.6102 4987906.8622999992 0, 477899.60470000003 4987937.4548000004 0, 477899.50690000039 4987963.6901999991 0, 477898.53160000034 4987989.9083999991 0, 477896.28670000006 4988020.4338000007 0, 477893.41619999986 4988046.5128000006 0, 477882.05800000019 4988125.4594000001 0, 477876.91160000023 4988170.4437000006 0, 477872.95359999966 4988215.5481000002 0, 477864.13570000045 4988363.9663999993 0, 477856.3376000002 4988462.2683000006 0, 477846.57349999994 4988560.3944000006 0, 477833.09869999997 4988670.1021999996 0, 477740.41729999986 4988668.8907999992 0, 477714.22740000021 4988668.5482999999 0, 477673.48940000031 4988668.4752999991 0, 477245.59279999975 4988670.7206999995 0, 476844.73340000026 4988672.1535 0, 476439.88960000034 4988674.6206 0, 476039.39659999963 4988681.3593000006 0, 475638.01549999975 4988688.4773999993 0, 475240.80360000022 4988690.7349999994 0, 474840.75420000032 4988692.8861999996 0, 474842.75679999962 4987884.0792999994 0, 474846.26049999986 4987667.5034999996 0, 474543.40660000034 4987764.2307999991 0, 474545.97140000015 4987475.8214999996 0, 474849.34549999982 4987464.8998000007 0, 474856.64020000026 4987043.8793000001 0, 474857.35319999978 4986939.0549999997 0, 474889.54059999995 4986938.7997999992 0, 474895.0345999999 4986479.8918999992 0, 474897.42129999958 4986280.5223999992 0, 474899.83899999969 4986078.5826999992 0, 474908.50509999972 4985477.1557999998 0, 474911.4347000001 4985273.8690000009 0, 474909.81450000033 4984872.3062999994 0, 474908.33179999981 4984504.8486000001 0, 474908.33050000016 4984504.5210999995 0, 474908.15739999991 4984461.6688000001 0, 474904.9682 4983671.0028000008 0, 474901.21569999959 4983070.4232000001 0, 474896.84729999956 4982267.8870000001 0, 474893.14709999971 4981571.3187000006 0, 474890.9757000003 4981221.7785999998 0, 474888.73139999993 4980860.6198999994 0, 474884.9151999997 4980462.6403000001 0, 474082.16779999994 4980463.6107999999 0, 474073.84219999984 4979277.1071000006 0, 474072.1671000002 4979125.6702999994 0, 474068.70579999965 4978778.8926999997 0, 474063.91779999994 4978159.7155000009 0, 474063.01690000016 4977871.4055000003 0, 474061.58669999987 4977677.6227000002 0, 474058.6185999997 4977275.6406999994 0, 474052.66380000021 4976971.5771999992 0, 474043.33260000031 4976495.1041999999 0, 474038.25789999962 4975680.2628000006 0, 474033.38779999968 4975288.7584000006 0, 474030.01439999975 4974888.4583999999 0, 474025.02780000027 4974084.6956999991 0))']"
      ]
     },
     "execution_count": 7,
     "metadata": {},
     "output_type": "execute_result"
    }
   ],
   "source": [
    "### 7\n",
    "\n",
    "# Import from wkt\n",
    "\n",
    "# Open shapes_wkt.txt\n",
    "with open(r'shapes_wkt.txt', 'r') as file:\n",
    "    loaded_wkts = file.readlines()\n",
    "    \n",
    "wkts=[]\n",
    "# Remove new line characters\n",
    "for loaded_wkt in loaded_wkts:\n",
    "    wkts += [loaded_wkt[:-2]]\n",
    "                 \n",
    "wkts"
   ]
  },
  {
   "cell_type": "code",
   "execution_count": null,
   "id": "4574552d",
   "metadata": {},
   "outputs": [],
   "source": [
    "### 8\n",
    "\n",
    "# Delete example feature classes\n",
    "\n",
    "# arcpy.management.Delete('example_point') # Delete feature class\n",
    "# arcpy.management.Delete('example_polyline') # Delete feature class\n",
    "# arcpy.management.Delete('example_polygon') # Delete feature class"
   ]
  },
  {
   "cell_type": "markdown",
   "id": "f38e6e45",
   "metadata": {
    "tags": []
   },
   "source": [
    "## FionaShapely"
   ]
  },
  {
   "cell_type": "code",
   "execution_count": 1,
   "id": "7242e873",
   "metadata": {},
   "outputs": [],
   "source": [
    "### 1\n",
    "\n",
    "# Import libraries\n",
    "\n",
    "import numpy as np # Creating data\n",
    "import shapely as shp # Creating shapes\n",
    "import geopandas as gpd # Spatial Data Management"
   ]
  },
  {
   "cell_type": "code",
   "execution_count": 2,
   "id": "8325b4c8",
   "metadata": {},
   "outputs": [],
   "source": [
    "### 2\n",
    "\n",
    "# Create data\n",
    "\n",
    "# Fields\n",
    "\n",
    "columns = ['col1', 'col2']\n",
    "\n",
    "col1_vals = np.array([1,2,3])\n",
    "col2_vals = np.array([1,2,3])\n",
    "\n",
    "data = np.array([col1_vals,col2_vals]).T\n",
    "\n",
    "# Geometry\n",
    "\n",
    "pt = shp.geometry.Point(475025.028, 4974084.696) # Point\n",
    "line = shp.geometry.LineString([(479025.028, 4979084.696),\n",
    "                                (475025.028, 4974084.696)]) # Line\n",
    "polygon = gpd.read_file('mpls_boundary.geojson').geometry[0] # Polygon, Importing GeoJson from file\n",
    "\n",
    "shapes = gpd.GeoSeries([pt, line, polygon],\n",
    "                      crs = 'EPSG:26915')"
   ]
  },
  {
   "cell_type": "code",
   "execution_count": 3,
   "id": "c103c984",
   "metadata": {},
   "outputs": [],
   "source": [
    "### 3\n",
    "\n",
    "# Create Feature Class (GeoDataFrame)\n",
    "\n",
    "gdf = gpd.GeoDataFrame(data,\n",
    "                       columns = columns, \n",
    "                       geometry = shapes)"
   ]
  },
  {
   "cell_type": "code",
   "execution_count": 4,
   "id": "cafc915c",
   "metadata": {},
   "outputs": [
    {
     "data": {
      "text/html": [
       "<div>\n",
       "<style scoped>\n",
       "    .dataframe tbody tr th:only-of-type {\n",
       "        vertical-align: middle;\n",
       "    }\n",
       "\n",
       "    .dataframe tbody tr th {\n",
       "        vertical-align: top;\n",
       "    }\n",
       "\n",
       "    .dataframe thead th {\n",
       "        text-align: right;\n",
       "    }\n",
       "</style>\n",
       "<table border=\"1\" class=\"dataframe\">\n",
       "  <thead>\n",
       "    <tr style=\"text-align: right;\">\n",
       "      <th></th>\n",
       "      <th>col1</th>\n",
       "      <th>col2</th>\n",
       "      <th>geometry</th>\n",
       "    </tr>\n",
       "  </thead>\n",
       "  <tbody>\n",
       "    <tr>\n",
       "      <th>0</th>\n",
       "      <td>1</td>\n",
       "      <td>1</td>\n",
       "      <td>POINT (475025.028 4974084.696)</td>\n",
       "    </tr>\n",
       "    <tr>\n",
       "      <th>1</th>\n",
       "      <td>2</td>\n",
       "      <td>2</td>\n",
       "      <td>LINESTRING (479025.028 4979084.696, 475025.028...</td>\n",
       "    </tr>\n",
       "    <tr>\n",
       "      <th>2</th>\n",
       "      <td>3</td>\n",
       "      <td>3</td>\n",
       "      <td>POLYGON ((474025.028 4974084.696, 474030.014 4...</td>\n",
       "    </tr>\n",
       "  </tbody>\n",
       "</table>\n",
       "</div>"
      ],
      "text/plain": [
       "   col1  col2                                           geometry\n",
       "0     1     1                     POINT (475025.028 4974084.696)\n",
       "1     2     2  LINESTRING (479025.028 4979084.696, 475025.028...\n",
       "2     3     3  POLYGON ((474025.028 4974084.696, 474030.014 4..."
      ]
     },
     "execution_count": 4,
     "metadata": {},
     "output_type": "execute_result"
    }
   ],
   "source": [
    "### 4\n",
    "\n",
    "# Show rows of data\n",
    "\n",
    "gdf.head()"
   ]
  },
  {
   "cell_type": "code",
   "execution_count": 5,
   "id": "a7ae3787",
   "metadata": {},
   "outputs": [
    {
     "data": {
      "text/plain": [
       "<AxesSubplot: >"
      ]
     },
     "execution_count": 5,
     "metadata": {},
     "output_type": "execute_result"
    },
    {
     "data": {
      "image/png": "[encoded data removed]",
      "text/plain": [
       "<Figure size 640x480 with 1 Axes>"
      ]
     },
     "metadata": {},
     "output_type": "display_data"
    }
   ],
   "source": [
    "### 5\n",
    "\n",
    "# Check out the shapes!\n",
    "\n",
    "shapes.plot(cmap='Blues')"
   ]
  },
  {
   "cell_type": "code",
   "execution_count": 6,
   "id": "8600ccfb",
   "metadata": {},
   "outputs": [
    {
     "name": "stdout",
     "output_type": "stream",
     "text": [
      "<class 'geopandas.geodataframe.GeoDataFrame'>\n",
      "RangeIndex: 3 entries, 0 to 2\n",
      "Data columns (total 3 columns):\n",
      " #   Column    Non-Null Count  Dtype   \n",
      "---  ------    --------------  -----   \n",
      " 0   col1      3 non-null      int64   \n",
      " 1   col2      3 non-null      int64   \n",
      " 2   geometry  3 non-null      geometry\n",
      "dtypes: geometry(1), int64(2)\n",
      "memory usage: 200.0 bytes\n"
     ]
    }
   ],
   "source": [
    "### 6\n",
    "\n",
    "# Summarize\n",
    "\n",
    "gdf.info()"
   ]
  },
  {
   "cell_type": "code",
   "execution_count": 7,
   "id": "552df71b",
   "metadata": {},
   "outputs": [],
   "source": [
    "### 7\n",
    "\n",
    "# Save\n",
    "\n",
    "# Shapefile\n",
    "# gdf.to_file('shape_shp.shp')\n",
    "\n",
    "# GeoDataBase\n",
    "# gdf.to_file(\"shape_gdf.gdf\") # Error can't mix the vector types?\n",
    "\n",
    "# GeoJSON\n",
    "# gdf.to_file('shapes_GeoJSON.geojson')\n"
   ]
  },
  {
   "cell_type": "code",
   "execution_count": 8,
   "id": "5a6be13b",
   "metadata": {},
   "outputs": [],
   "source": [
    "### 8\n",
    "\n",
    "# To WKT\n",
    "\n",
    "wkts = [x.wkt for x in shapes]\n",
    "\n",
    "# Open file in write mode\n",
    "with open(r'shapes_wkt.txt', 'w') as file:\n",
    "    for wkt in wkts:\n",
    "        # write each wkt on new line\n",
    "        file.write(\"%s\\n\" % wkt)"
   ]
  },
  {
   "cell_type": "code",
   "execution_count": 77,
   "id": "23f31d90",
   "metadata": {},
   "outputs": [
    {
     "data": {
      "text/plain": [
       "['POINT (479025.02799999999 4979084.6960000005',\n",
       " 'MULTILINESTRING ((479025.02799999999 4979084.6960000005, 475025.02799999999 4974084.6960000005)',\n",
       " 'MULTIPOLYGON Z (((474025.02780000027 4974084.6956999991 0, 474026.81520000007 4973286.3438000008 0, 474027.36409999989 4972484.2321000006 0, 474829.96729999967 4972473.0042000003 0, 474827.12650000025 4971668.7555999998 0, 474823.79800000042 4970870.5369000006 0, 475925.19859999977 4970855.0585999992 0, 476683.10240000021 4970844.4085000008 0, 477230.17980000004 4970836.7248999998 0, 478039.2703999998 4970839.7566999998 0, 478286.21030000038 4970841.4076000005 0, 478849.89460000023 4970845.1762000006 0, 480189.29530000035 4970840.7016000003 0, 480190.58789999969 4970849.8049999997 0, 480078.14599999972 4970850.3302999996 0, 480038.99600000028 4970850.4730999991 0, 480045.18039999995 4971051.4532999992 0, 479944.37959999964 4971051.7886999995 0, 479948.04629999958 4971243.4615000002 0, 479889.87160000019 4971243.3337999992 0, 479891.37069999985 4971307.5811000001 0, 479887.10529999994 4971307.5493000001 0, 479888.72630000021 4971377.966 0, 479792.1425999999 4971377.8817999996 0, 479796.60109999962 4971556.5484999996 0, 479836.11359999981 4971556.4857999999 0, 479836.16199999955 4971559.6570999995 0, 479853.78809999954 4971559.9156999998 0, 479855.50100000016 4971634.4651999995 0, 479894.63040000014 4971634.4798000008 0, 480399.80059999973 4971634.6704999991 0, 480399.02159999963 4971603.7863999996 0, 480450.34080000035 4971603.8073999994 0, 480446.61890000012 4971444.3444999997 0, 480649.52419999987 4971443.7027000003 0, 480651.26860000007 4971517.8706999999 0, 480651.62260000035 4971545.1742000002 0, 480660.11930000037 4971545.2223000005 0, 480660.1799999997 4971559.3497000001 0, 480699.16999999993 4971559.8378999997 0, 480698.97009999957 4971536.3012000006 0, 480758.15170000028 4971536.6358000003 0, 480758.83110000007 4971576.1305 0, 480802.24309999961 4971576.7064999994 0, 480802.64059999958 4971607.2631000001 0, 480841.81940000039 4971607.9028999992 0, 480840.25109999999 4971546.2403999995 0, 480850.45779999997 4971546.2980000004 0, 480850.57359999977 4971552.1875 0, 480858.74230000004 4971551.9986000005 0, 480859.84719999973 4971638.8588999994 0, 480941.50939999986 4971638.8949999996 0, 480940.96609999985 4971550.0971000008 0, 480998.26279999968 4971548.7605000008 0, 481196.83739999961 4971544.5384999998 0, 481249.02680000011 4971543.1320999991 0, 481249.06620000023 4971534.0784000009 0, 481638.12170000002 4971536.7528000008 0, 481642.00499999989 4971529.1308999993 0, 481642.78990000021 4971445.0640999991 0, 481440.33530000038 4971444.0841000006 0, 481439.19440000039 4971320.5748999994 0, 481658.61550000031 4971322.3111000005 0, 481658.84999999963 4971366.7052999996 0, 481703.43140000012 4971366.9410999995 0, 481703.8657999998 4971462.1978999991 0, 481660.0186999999 4971461.8809999991 0, 481660.08650000021 4971473.5855999999 0, 481703.96030000038 4971473.8692000005 0, 481704.35989999957 4971523.3137999997 0, 482054.30240000039 4971525.6945999991 0, 482054.41179999989 4971538.4887000006 0, 482406.01109999977 4971536.5523000006 0, 482406.03949999996 4971538.8602000009 0, 482407.18560000043 4971540.8871999998 0, 482411.11120000016 4971543.0452999994 0, 482587.43759999983 4971542.9115999993 0, 482587.58349999972 4971555.2018999998 0, 482687.94259999972 4971619.6877999995 0, 482705.78380000032 4971629.0062000006 0, 482705.33889999986 4971517.3970999997 0, 482667.80109999981 4971517.1953999996 0, 482648.81199999992 4971529.4210000001 0, 482543.53280000016 4971529.3035000004 0, 482524.07220000029 4971517.1248000003 0, 482433.31149999984 4971517.8118999992 0, 482433.37110000011 4971441.0120999999 0, 482434.53569999989 4971422.6377000008 0, 482600.55960000027 4971305.5660999995 0, 482704.30209999997 4971305.6469999999 0, 482704.8200000003 4971418.6403000001 0, 482862.43919999991 4971418.7225000001 0, 482862.06390000042 4971370.3011000007 0, 482846.72970000003 4971370.2970000003 0, 482845.65660000034 4971262.4260000009 0, 482860.06730000023 4971262.4132000003 0, 482858.4581000004 4971175.4590000007 0, 482941.77740000002 4971133.5822000001 0, 483149.32679999992 4971133.8134000003 0, 483347.40149999969 4971133.7266000006 0, 483349.92659999989 4971417.5855999999 0, 483189.70650000032 4971417.5216000006 0, 483190.11990000028 4971445.1021999996 0, 483601.94919999968 4971444.3861999996 0, 483603.59829999972 4971655.0562999994 0, 483611.59499999974 4972461.6608000007 0, 484013.92740000039 4972461.2080000006 0, 484415.78550000023 4972461.7426999994 0, 484658.75069999974 4972457.0610000007 0, 484610.01879999973 4972500.6623999998 0, 484555.99509999994 4972547.9679000005 0, 484469.30300000031 4972621.5592 0, 484421.13460000046 4972662.4487999994 0, 484386.45909999963 4972695.3538000006 0, 484353.50580000039 4972729.9828999992 0, 484325.39080000017 4972762.5493999999 0, 484295.94159999955 4972800.2039000001 0, 484268.45000000019 4972839.3102000002 0, 484245.43950000033 4972875.6634999998 0, 484221.85879999958 4972917.2453000005 0, 484200.4282999998 4972959.9750999995 0, 484181.20289999992 4973003.7415999994 0, 484165.82710000034 4973043.9239000008 0, 484159.89140000008 4973062.0164000001 0, 484150.92559999973 4973089.3446999993 0, 484138.35800000001 4973135.4659000002 0, 484129.07029999979 4973177.4747000001 0, 484121.02249999996 4973224.5954 0, 484115.84100000001 4973267.3059 0, 484107.88709999993 4973383.3197000008 0, 484101.90359999985 4973499.4526000004 0, 484098.24100000039 4973602.7542000003 0, 484095.98460000008 4973719.0186999999 0, 484095.82820000034 4973844.5464999992 0, 484097.10919999983 4973938.6618000008 0, 484100.55599999987 4974054.8970999997 0, 484105.27610000037 4974158.1554000005 0, 484111.55449999962 4974261.3302999996 0, 484120.47740000021 4974377.2738000005 0, 484130.06049999967 4974480.1944999993 0, 484142.69689999986 4974595.7925000004 0, 484155.57550000027 4974698.3528000005 0, 484171.91189999972 4974813.4861999992 0, 484181.19579999987 4974871.7815000005 0, 484190.20110000018 4974928.3253000006 0, 484210.1967000002 4975041.5440999996 0, 484196.43209999986 4975149.1009999998 0, 484184.80740000028 4975249.6798 0, 484174.37000000011 4975350.3883999996 0, 484165.12150000036 4975451.2129999995 0, 484157.06259999983 4975552.1399000008 0, 484148.8415000001 4975677.2715000007 0, 484144.51989999972 4975754.2434999999 0, 484140.03760000039 4975855.3924000002 0, 484136.74830000009 4975956.5866999999 0, 484134.45199999958 4976072.2759000007 0, 484133.72180000041 4976173.5210999995 0, 484134.18599999975 4976274.7679999992 0, 484135.84460000042 4976376.0022 0, 484138.69749999978 4976477.2100000009 0, 484142.74380000029 4976578.3769000005 0, 484146.24890000001 4976646.0149000008 0, 484147.98309999984 4976679.4889000002 0, 484149.3814000003 4976715.2141999993 0, 484150.02209999971 4976753.3332000002 0, 484149.78479999956 4976791.4569000006 0, 484148.91750000045 4976823.2155000009 0, 484147.07249999978 4976861.2952999994 0, 484144.86600000039 4976892.9890999999 0, 484142.05179999955 4976924.6348000001 0, 484137.87469999958 4976962.5294000003 0, 484132.82639999967 4977000.3180999998 0, 484127.95600000024 4977031.7134000007 0, 484121.31790000014 4977069.2551000006 0, 484108.34049999993 4977131.4540999997 0, 484099.41249999963 4977168.5183000006 0, 484089.63329999987 4977205.3669000007 0, 484080.83839999977 4977235.8959999997 0, 484075.53710000031 4977250.8241000008 0, 484065.72410000023 4977278.4583000001 0, 484048.17459999956 4977320.6406999994 0, 484028.40060000028 4977361.8269999996 0, 484006.45889999997 4977401.9006999992 0, 483982.4112999998 4977440.7471999992 0, 483956.32689999975 4977478.2557999995 0, 483928.27950000018 4977514.3208000008 0, 483901.4243999999 4977545.4595999997 0, 483869.87129999977 4977578.5012999997 0, 483841.42769999988 4977605.2711999994 0, 483836.6015999997 4977609.8134000003 0, 483801.7098000003 4977639.3071999997 0, 483769.00169999991 4977664.2274999991 0, 483739.26879999973 4977684.7026000004 0, 483735.13570000045 4977687.5488000009 0, 483696.24320000038 4977711.5214000009 0, 483656.12799999956 4977733.3863999993 0, 483639.24909999967 4977741.4495999999 0, 483614.90280000027 4977753.0801999997 0, 483614.90350000001 4977755.2623999994 0, 483615.1305999998 4978839.7796999998 0, 483616.53579999972 4979041.2861000001 0, 483624.38910000026 4980167.4840999991 0, 483628.99100000039 4980813.8541000001 0, 483629.06670000032 4980824.5106000006 0, 483632.00820000004 4981294.5294000003 0, 483633.80449999962 4981408.1335000005 0, 483637.56819999963 4981646.1930999998 0, 483637.57340000011 4981646.5120000001 0, 483638.94120000023 4982035.8644999992 0, 483638.93680000026 4982040.1995999999 0, 483638.73510000017 4982233.2850000001 0, 483637.88360000029 4983048.3230000008 0, 483637.25310000032 4983652.4683999997 0, 483636.90369999968 4983652.4639999997 0, 482835.24270000029 4983642.4287999999 0, 482831.73660000041 4984448.3303999994 0, 482792.9057 4984448.0702999998 0, 482124.79719999991 4984443.4787000008 0, 482125.2686999999 4985077.4572999999 0, 482126.21870000008 4985652.4916999992 0, 482126.1464999998 4985854.4473000001 0, 482125.19240000006 4986457.4780999999 0, 482125.76130000036 4986938.0919000003 0, 482125.22780000046 4986938.0890999995 0, 480924.64589999989 4986931.9339000005 0, 480519.21609999985 4986929.8840999994 0, 478916.12669999991 4986933.1161000002 0, 478589.59030000027 4986931.9903999995 0, 477671.44880000036 4986928.8249999993 0, 477681.00889999978 4987000.2307999991 0, 477688.32129999995 4987037.9591000006 0, 477696.44409999996 4987072.5692999996 0, 477703.97869999986 4987100.3871999998 0, 477713.83499999996 4987132.5337000005 0, 477723.18690000009 4987159.7949000001 0, 477733.87750000041 4987188.0544000007 0, 477829.20600000024 4987475.8847000003 0, 477842.53409999982 4987520.0327000003 0, 477854.36209999956 4987564.6068999991 0, 477864.67509999964 4987609.5546000004 0, 477874.45270000026 4987660.5053000003 0, 477882.28500000015 4987711.7907999996 0, 477887.60450000037 4987757.5986000001 0, 477891.37179999985 4987803.5605999995 0, 477893.6018000003 4987850.2486000005 0, 477897.36519999988 4987888.7775999997 0, 477898.6102 4987906.8622999992 0, 477899.60470000003 4987937.4548000004 0, 477899.50690000039 4987963.6901999991 0, 477898.53160000034 4987989.9083999991 0, 477896.28670000006 4988020.4338000007 0, 477893.41619999986 4988046.5128000006 0, 477882.05800000019 4988125.4594000001 0, 477876.91160000023 4988170.4437000006 0, 477872.95359999966 4988215.5481000002 0, 477864.13570000045 4988363.9663999993 0, 477856.3376000002 4988462.2683000006 0, 477846.57349999994 4988560.3944000006 0, 477833.09869999997 4988670.1021999996 0, 477740.41729999986 4988668.8907999992 0, 477714.22740000021 4988668.5482999999 0, 477673.48940000031 4988668.4752999991 0, 477245.59279999975 4988670.7206999995 0, 476844.73340000026 4988672.1535 0, 476439.88960000034 4988674.6206 0, 476039.39659999963 4988681.3593000006 0, 475638.01549999975 4988688.4773999993 0, 475240.80360000022 4988690.7349999994 0, 474840.75420000032 4988692.8861999996 0, 474842.75679999962 4987884.0792999994 0, 474846.26049999986 4987667.5034999996 0, 474543.40660000034 4987764.2307999991 0, 474545.97140000015 4987475.8214999996 0, 474849.34549999982 4987464.8998000007 0, 474856.64020000026 4987043.8793000001 0, 474857.35319999978 4986939.0549999997 0, 474889.54059999995 4986938.7997999992 0, 474895.0345999999 4986479.8918999992 0, 474897.42129999958 4986280.5223999992 0, 474899.83899999969 4986078.5826999992 0, 474908.50509999972 4985477.1557999998 0, 474911.4347000001 4985273.8690000009 0, 474909.81450000033 4984872.3062999994 0, 474908.33179999981 4984504.8486000001 0, 474908.33050000016 4984504.5210999995 0, 474908.15739999991 4984461.6688000001 0, 474904.9682 4983671.0028000008 0, 474901.21569999959 4983070.4232000001 0, 474896.84729999956 4982267.8870000001 0, 474893.14709999971 4981571.3187000006 0, 474890.9757000003 4981221.7785999998 0, 474888.73139999993 4980860.6198999994 0, 474884.9151999997 4980462.6403000001 0, 474082.16779999994 4980463.6107999999 0, 474073.84219999984 4979277.1071000006 0, 474072.1671000002 4979125.6702999994 0, 474068.70579999965 4978778.8926999997 0, 474063.91779999994 4978159.7155000009 0, 474063.01690000016 4977871.4055000003 0, 474061.58669999987 4977677.6227000002 0, 474058.6185999997 4977275.6406999994 0, 474052.66380000021 4976971.5771999992 0, 474043.33260000031 4976495.1041999999 0, 474038.25789999962 4975680.2628000006 0, 474033.38779999968 4975288.7584000006 0, 474030.01439999975 4974888.4583999999 0, 474025.02780000027 4974084.6956999991 0))']"
      ]
     },
     "execution_count": 77,
     "metadata": {},
     "output_type": "execute_result"
    }
   ],
   "source": [
    "### 9\n",
    "\n",
    "# Import from wkt\n",
    "\n",
    "# Open shapes_wkt.txt\n",
    "with open(r'shapes_wkt.txt', 'r') as file:\n",
    "    loaded_wkts = file.readlines()\n",
    "    \n",
    "\n",
    "wkts = []\n",
    "# Remove new line characters\n",
    "for loaded_wkt in loaded_wkts:\n",
    "    wkts += [loaded_wkt[:-2]]\n",
    "                 \n",
    "wkts"
   ]
  }
 ],
 "metadata": {
  "kernelspec": {
   "display_name": "Python 3 (ipykernel)",
   "language": "python",
   "name": "python3"
  },
  "language_info": {
   "codemirror_mode": {
    "name": "ipython",
    "version": 3
   },
   "file_extension": ".py",
   "mimetype": "text/x-python",
   "name": "python",
   "nbconvert_exporter": "python",
   "pygments_lexer": "ipython3",
   "version": "3.10.8"
  }
 },
 "nbformat": 4,
 "nbformat_minor": 5
}
