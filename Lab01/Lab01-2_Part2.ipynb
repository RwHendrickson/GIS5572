{
 "cells": [
  {
   "cell_type": "markdown",
   "id": "9fea0a0b",
   "metadata": {},
   "source": [
    "# Lab 1-2: Part 2"
   ]
  },
  {
   "cell_type": "code",
   "execution_count": 241,
   "id": "1e06951f",
   "metadata": {},
   "outputs": [],
   "source": [
    "# Import libraries\n",
    "\n",
    "import arcpy\n",
    "import psycopg2\n",
    "from psycopg2 import sql\n",
    "from psycopg2 import extras\n",
    "import json"
   ]
  },
  {
   "cell_type": "code",
   "execution_count": 14,
   "id": "36107756",
   "metadata": {},
   "outputs": [],
   "source": [
    "# Create Polygon\n",
    "\n",
    "# Points\n",
    "\n",
    "pt1 = arcpy.Point(479025.028, 4979084.696) \n",
    "pt2 = arcpy.Point(475025.028, 4974084.696) \n",
    "pt3 = arcpy.Point(479025.028, 4974084.696)\n",
    "\n",
    "# Assemble into polygon\n",
    "\n",
    "poly_array = arcpy.Array([pt1, pt2, pt3, pt1])\n",
    "poly = arcpy.Polygon(poly_array, spatial_reference=26915)"
   ]
  },
  {
   "cell_type": "code",
   "execution_count": 15,
   "id": "8d956e64",
   "metadata": {},
   "outputs": [],
   "source": [
    "# Get WKT\n",
    "\n",
    "wkt = poly.WKT"
   ]
  },
  {
   "cell_type": "code",
   "execution_count": 234,
   "id": "ac895f5a",
   "metadata": {},
   "outputs": [],
   "source": [
    "cur.close()\n",
    "conn.close()"
   ]
  },
  {
   "cell_type": "code",
   "execution_count": 235,
   "id": "2a156e12",
   "metadata": {},
   "outputs": [],
   "source": [
    "# Connect to PostGIS Database\n",
    "\n",
    "pg_connection_dict = {\n",
    "    'dbname': 'lab0',\n",
    "    'user': 'postgres',\n",
    "    'password': 'postgres',\n",
    "    'port': '5432',\n",
    "    'host': '35.232.191.92'\n",
    "}\n",
    "\n",
    "conn = psycopg2.connect(**pg_connection_dict)"
   ]
  },
  {
   "cell_type": "code",
   "execution_count": 236,
   "id": "0854e746",
   "metadata": {},
   "outputs": [
    {
     "data": {
      "text/plain": [
       "0"
      ]
     },
     "execution_count": 236,
     "metadata": {},
     "output_type": "execute_result"
    }
   ],
   "source": [
    "conn.closed"
   ]
  },
  {
   "cell_type": "code",
   "execution_count": 237,
   "id": "7550d185",
   "metadata": {},
   "outputs": [],
   "source": [
    "cur = conn.cursor()\n",
    "cur.execute(\"SELECT 1\")\n"
   ]
  },
  {
   "cell_type": "code",
   "execution_count": 238,
   "id": "5ff4d00e",
   "metadata": {},
   "outputs": [
    {
     "data": {
      "text/plain": [
       "[(1,)]"
      ]
     },
     "execution_count": 238,
     "metadata": {},
     "output_type": "execute_result"
    }
   ],
   "source": [
    "cur.fetchall()"
   ]
  },
  {
   "cell_type": "code",
   "execution_count": 239,
   "id": "ce887dcc",
   "metadata": {},
   "outputs": [],
   "source": [
    "# Add to database\n",
    "\n",
    "cur = conn.cursor() # Create cursor for commands\n",
    "\n",
    "# Create table\n",
    "\n",
    "create_cmd = sql.SQL(\"DROP TABLE IF EXISTS example;CREATE TABLE example (geom geometry);\")\n",
    "\n",
    "cur.execute(create_cmd)\n",
    "\n",
    "# Insert into table\n",
    "\n",
    "cur.execute(\n",
    "    'INSERT INTO example(geom)'\n",
    "    'VALUES (ST_Transform(ST_SetSRID(ST_GeomFromText(%(geom)s), 26915),4326)::geometry)',\n",
    "    {'geom': wkt})\n",
    "\n",
    "conn.commit() # Commit commands\n",
    "cur.close() # Close cursor\n",
    "\n",
    "# Close connection\n",
    "\n",
    "conn.close()"
   ]
  },
  {
   "cell_type": "code",
   "execution_count": 286,
   "id": "fb221aab",
   "metadata": {},
   "outputs": [],
   "source": [
    "# Get that back\n",
    "\n",
    "# Get example \n",
    "\n",
    "def get_example():\n",
    "    \n",
    "    # Connect to Database\n",
    "    pg_connection_dict = {\n",
    "    'dbname': 'lab0',\n",
    "    'user': 'postgres',\n",
    "    'password': 'postgres',\n",
    "    'port': '5432',\n",
    "    'host': '35.232.191.92'\n",
    "    }\n",
    "\n",
    "    conn = psycopg2.connect(**pg_connection_dict)\n",
    "    \n",
    "    # Create json cursor\n",
    "    cur = conn.cursor(cursor_factory = extras.RealDictCursor)\n",
    "    \n",
    "    # Get the example\n",
    "    cmd = \"\"\"SELECT json_build_object(\n",
    "    'type', 'FeatureCollection',\n",
    "    'features', json_agg(ST_AsGeoJSON(example.*)::json)\n",
    "    )\n",
    "FROM example;\"\"\"\n",
    "    \n",
    "    # If want with CRS 'crs', json_build_object('type', 'name', properties', json_build_object( 'name', ST_SRID(geom))::json)::json,\n",
    "    \n",
    "    cur.execute(cmd)\n",
    "#     cur.execute('SELECT ST_ASGeoJSON(geom) FROM example')\n",
    "    \n",
    "    conn.commit() # Committ command\n",
    "    \n",
    "    geojson = json.loads(json.dumps(cur.fetchall()))[0][\"json_build_object\"]\n",
    "    \n",
    "    # Close connection\n",
    "    cur.close()\n",
    "    conn.close()\n",
    "    \n",
    "    return geojson\n",
    "\n",
    "geo = get_example()"
   ]
  },
  {
   "cell_type": "code",
   "execution_count": 282,
   "id": "f998cf78",
   "metadata": {},
   "outputs": [],
   "source": [
    "import json\n",
    "import requests\n",
    "data = geo\n",
    "data_json = json.dumps(data)\n",
    "# payload = {'json_payload': data_json, 'apikey': 'YOUR_API_KEY_HERE'}\n",
    "# r = requests.get('http://myserver/emoncms2/api/post', data=payload)"
   ]
  },
  {
   "cell_type": "code",
   "execution_count": 283,
   "id": "082160ea",
   "metadata": {},
   "outputs": [
    {
     "data": {
      "text/plain": [
       "'{\"type\": \"FeatureCollection\", \"features\": [{\"type\": \"Feature\", \"geometry\": {\"type\": \"MultiPolygon\", \"coordinates\": [[[[-93.265965808, 44.964891414], [-93.316438353, 44.919752628], [-93.265758076, 44.919881808], [-93.265965808, 44.964891414]]]]}, \"properties\": {}}]}'"
      ]
     },
     "execution_count": 283,
     "metadata": {},
     "output_type": "execute_result"
    }
   ],
   "source": [
    "data_json"
   ]
  },
  {
   "cell_type": "code",
   "execution_count": 279,
   "id": "338b991f",
   "metadata": {},
   "outputs": [
    {
     "name": "stdout",
     "output_type": "stream",
     "text": [
      "{'features': [{'geometry': {'coordinates': [[[[-93.265965808, 44.964891414],\n",
      "                                              [-93.316438353, 44.919752628],\n",
      "                                              [-93.265758076, 44.919881808],\n",
      "                                              [-93.265965808, 44.964891414]]]],\n",
      "                            'type': 'MultiPolygon'},\n",
      "               'properties': {},\n",
      "               'type': 'Feature'}],\n",
      " 'type': 'FeatureCollection'}\n"
     ]
    }
   ],
   "source": [
    "import pprint\n",
    "\n",
    "pprint.pprint(geo)"
   ]
  },
  {
   "cell_type": "code",
   "execution_count": null,
   "id": "6093f0bb",
   "metadata": {},
   "outputs": [],
   "source": []
  }
 ],
 "metadata": {
  "kernelspec": {
   "display_name": "Python 3",
   "language": "python",
   "name": "python3"
  },
  "language_info": {
   "codemirror_mode": {
    "name": "ipython",
    "version": 3
   },
   "file_extension": ".py",
   "mimetype": "text/x-python",
   "name": "python",
   "nbconvert_exporter": "python",
   "pygments_lexer": "ipython3",
   "version": "3.9.11"
  }
 },
 "nbformat": 4,
 "nbformat_minor": 5
}
